{
 "cells": [
  {
   "cell_type": "code",
   "execution_count": 1,
   "metadata": {},
   "outputs": [],
   "source": [
    "#1.1 Write a Python Program(with class concepts) to find the area of the triangle using the below\n",
    "#formula.\n",
    "#area = (s*(s-a)*(s-b)*(s-c)) ** 0.5\n",
    "#Function to take the length of the sides of triangle from user should be defined in the parent\n",
    "#class and function to calculate the area should be defined in subclass."
   ]
  },
  {
   "cell_type": "code",
   "execution_count": 2,
   "metadata": {},
   "outputs": [
    {
     "name": "stdout",
     "output_type": "stream",
     "text": [
      "Enter the dimensions of Triangle\n",
      "Please enter side a: 3\n",
      "Please enter side b: 4\n",
      "Please enter side c: 5\n",
      "The sides of the triangle are: 3 4 5\n",
      "Area of triangle is 6.0\n"
     ]
    }
   ],
   "source": [
    "class Triangle:\n",
    "    a = 0\n",
    "    b = 0\n",
    "    c = 0\n",
    "    \n",
    "    def __init__(self):  # class constructur (called at creation time)\n",
    "        print('Enter the dimensions of Triangle')\n",
    "    \n",
    "    def sides(self):\n",
    "        while 1: # infinite loop\n",
    "            a = input(\"Please enter side a: \")\n",
    "            if a.isnumeric() == False:\n",
    "                print (\"Ops! Retry\")\n",
    "            else:\n",
    "                b = input(\"Please enter side b: \")\n",
    "                if b.isnumeric() == False:\n",
    "                    print (\"Ops! Retry\")\n",
    "                else:\n",
    "                    c = input(\"Please enter side c: \")\n",
    "                    if c.isnumeric() == False:\n",
    "                        print (\"Ops! Retry\")\n",
    "                    else:\n",
    "                        print('The sides of the triangle are:',a,b,c)\n",
    "                        break  # this will break the loop\n",
    "        \n",
    "\n",
    "        self.a = int(a)  # assign to self.a the value a\n",
    "        self.b = int(b)  # assign to self.b the value b\n",
    "        self.c = int(c)  # assign to self.c the value c\n",
    "\n",
    "class Area_(Triangle):\n",
    "    def __init__(self):\n",
    "        super(Area_,self).__init__()\n",
    "        \n",
    "    def Area(self):\n",
    "        s = (self.a+self.b+self.c)/2\n",
    "        A = (s*(s-self.a)*(s-self.b)*(s-self.c))**0.5\n",
    "        return print('Area of triangle is',A)\n",
    "T = Area_()\n",
    "T.sides()\n",
    "T.Area()"
   ]
  }
 ],
 "metadata": {
  "kernelspec": {
   "display_name": "Python 3",
   "language": "python",
   "name": "python3"
  },
  "language_info": {
   "codemirror_mode": {
    "name": "ipython",
    "version": 3
   },
   "file_extension": ".py",
   "mimetype": "text/x-python",
   "name": "python",
   "nbconvert_exporter": "python",
   "pygments_lexer": "ipython3",
   "version": "3.6.5"
  }
 },
 "nbformat": 4,
 "nbformat_minor": 2
}
