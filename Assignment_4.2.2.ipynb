{
 "cells": [
  {
   "cell_type": "code",
   "execution_count": 1,
   "metadata": {},
   "outputs": [],
   "source": [
    "#2.2 Write a Python function which takes a character (i.e. a string of length 1) and returns True if\n",
    "#it is a vowel, False otherwise."
   ]
  },
  {
   "cell_type": "code",
   "execution_count": 2,
   "metadata": {},
   "outputs": [
    {
     "name": "stdout",
     "output_type": "stream",
     "text": [
      "Please enter a character: f\n"
     ]
    },
    {
     "data": {
      "text/plain": [
       "False"
      ]
     },
     "execution_count": 2,
     "metadata": {},
     "output_type": "execute_result"
    }
   ],
   "source": [
    "def isVowel():\n",
    "    l = ['a','e','i','o','u']\n",
    "    a = input('Please enter a character: ')\n",
    "    if a.isalpha() == True:\n",
    "        for item in l:\n",
    "            if a == item:\n",
    "                return True\n",
    "            else:\n",
    "                return False\n",
    "    else:\n",
    "        print('Enter an alphabet')\n",
    "\n",
    "isVowel()"
   ]
  }
 ],
 "metadata": {
  "kernelspec": {
   "display_name": "Python 3",
   "language": "python",
   "name": "python3"
  },
  "language_info": {
   "codemirror_mode": {
    "name": "ipython",
    "version": 3
   },
   "file_extension": ".py",
   "mimetype": "text/x-python",
   "name": "python",
   "nbconvert_exporter": "python",
   "pygments_lexer": "ipython3",
   "version": "3.6.5"
  }
 },
 "nbformat": 4,
 "nbformat_minor": 2
}
